{
 "cells": [
  {
   "cell_type": "markdown",
   "metadata": {},
   "source": [
    "### 导入波士顿房价数据作为示例"
   ]
  },
  {
   "cell_type": "code",
   "execution_count": 3,
   "metadata": {},
   "outputs": [],
   "source": [
    "from sklearn import datasets  # 导入库\n",
    "from sklearn.model_selection import train_test_split\n",
    "import numpy as np\n",
    "boston = datasets.load_boston()  # 导入波士顿房价数据\n",
    "\n",
    "train = boston.data  # sample\n",
    "target = boston.target  # target\n",
    "# 切割数据样本集合测试集\n",
    "X_train, x_test, y_train, y_true = train_test_split(train, target, test_size=0.2)  # 20%测试集；80%训练集\n"
   ]
  },
  {
   "cell_type": "code",
   "execution_count": 4,
   "metadata": {},
   "outputs": [
    {
     "name": "stdout",
     "output_type": "stream",
     "text": [
      "X_train_Double.shape: (404, 2, 26) X_test_Double.shape: (102, 2, 26)\n"
     ]
    }
   ],
   "source": [
    "# 對特征做一個操作 讓它翻倍以免出現不是雙數的情況\n",
    "X_train_Double = []\n",
    "for line in X_train:\n",
    "    tempList = []\n",
    "    for l in line:\n",
    "        tempList.extend([l,l])\n",
    "    X_train_Double.append([np.array(tempList),np.array(tempList)])\n",
    "\n",
    "X_train_Double = np.array(X_train_Double)\n",
    "\n",
    "X_test_Double = []\n",
    "for line in x_test:\n",
    "    tempList = []\n",
    "    for l in line:\n",
    "        tempList.extend([l,l])\n",
    "    X_test_Double.append([np.array(tempList),np.array(tempList)])\n",
    "\n",
    "X_test_Double = np.array(X_test_Double)\n",
    "\n",
    "\n",
    "\n",
    "print(\"X_train_Double.shape:\",X_train_Double.shape,\"X_test_Double.shape:\",X_test_Double.shape)\n",
    "        "
   ]
  },
  {
   "cell_type": "code",
   "execution_count": 5,
   "metadata": {},
   "outputs": [],
   "source": [
    "from Frame.DeepLearningModel import TransAm\n",
    "from Frame.DeepLearningRegression import General_Regression_Training_3d\n"
   ]
  },
  {
   "cell_type": "code",
   "execution_count": null,
   "metadata": {},
   "outputs": [],
   "source": []
  },
  {
   "cell_type": "code",
   "execution_count": null,
   "metadata": {},
   "outputs": [],
   "source": []
  },
  {
   "cell_type": "code",
   "execution_count": null,
   "metadata": {},
   "outputs": [],
   "source": []
  },
  {
   "cell_type": "code",
   "execution_count": null,
   "metadata": {},
   "outputs": [],
   "source": []
  },
  {
   "cell_type": "code",
   "execution_count": null,
   "metadata": {},
   "outputs": [],
   "source": []
  },
  {
   "cell_type": "markdown",
   "metadata": {},
   "source": [
    "## "
   ]
  }
 ],
 "metadata": {
  "kernelspec": {
   "display_name": "Python 3",
   "language": "python",
   "name": "python3"
  },
  "language_info": {
   "codemirror_mode": {
    "name": "ipython",
    "version": 3
   },
   "file_extension": ".py",
   "mimetype": "text/x-python",
   "name": "python",
   "nbconvert_exporter": "python",
   "pygments_lexer": "ipython3",
   "version": "3.8.3"
  }
 },
 "nbformat": 4,
 "nbformat_minor": 4
}
