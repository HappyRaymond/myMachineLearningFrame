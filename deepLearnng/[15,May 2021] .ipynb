{
 "cells": [
  {
   "cell_type": "code",
   "execution_count": 1,
   "metadata": {},
   "outputs": [],
   "source": [
    "import pandas as pd\n",
    "import numpy as np\n",
    "from Frame import myDataset"
   ]
  },
  {
   "cell_type": "code",
   "execution_count": 2,
   "metadata": {},
   "outputs": [],
   "source": [
    "filePathList = myDataset.getFiles(\"../dataset\",\".csv\")"
   ]
  },
  {
   "cell_type": "code",
   "execution_count": 3,
   "metadata": {},
   "outputs": [
    {
     "name": "stdout",
     "output_type": "stream",
     "text": [
      "../dataset\\Multivariate_Interpolation\\Economise_Hong Kong Island_Multivariate_Interpolation.csv\n",
      "../dataset\\Multivariate_Interpolation\\Economise_Kowloon_Multivariate_Interpolation.csv\n",
      "../dataset\\Multivariate_Interpolation\\Economise_New Territories_Multivariate_Interpolation.csv\n",
      "../dataset\\Multivariate_Interpolation\\Hong Kong Island_Multivariate_Interpolation.csv\n",
      "../dataset\\Multivariate_Interpolation\\Kowloon_Multivariate_Interpolation.csv\n",
      "../dataset\\Multivariate_Interpolation\\New Territories_Multivariate_Interpolation.csv\n"
     ]
    }
   ],
   "source": [
    "for i in range(len(filePathList)):\n",
    "    print(filePathList[i])"
   ]
  },
  {
   "cell_type": "code",
   "execution_count": 4,
   "metadata": {},
   "outputs": [],
   "source": [
    "Economise_HK_Data = pd.read_csv(filePathList[0])\n",
    "Economise_KL_Data = pd.read_csv(filePathList[1])\n",
    "Economise_NT_Data = pd.read_csv(filePathList[2])\n",
    "General_HK_Data = pd.read_csv(filePathList[3])\n",
    "General_KL_Data = pd.read_csv(filePathList[4])\n",
    "General_NT_Data = pd.read_csv(filePathList[5])"
   ]
  },
  {
   "cell_type": "code",
   "execution_count": 5,
   "metadata": {},
   "outputs": [
    {
     "name": "stdout",
     "output_type": "stream",
     "text": [
      "Economise_HK_Data.shape (177475, 32)\n",
      "Economise_KL_Data.shape (275891, 32)\n",
      "Economise_NT_Data.shape (866308, 32)\n",
      "General_HK_Data.shape (164718, 22)\n",
      "General_KL_Data.shape (272857, 22)\n",
      "General_NT_Data.shape (870651, 22)\n",
      "Economise data feature name ['Date', 'year', 'month', 'day', 'District', 'Estate', 'Change', 'Building_Area', 'Usable_Area_Unit_Price', 'Contract_Form', 'Total_Trans_for_the_unit', 'Occupancy_Date', 'Estate_Total_Units', 'Total_Blocks', 'Developer', 'Management_Co', 'Kinder_Grden', 'Primary', 'Secondary', 'Longitude', 'Latitude', 'Building_Area_Unit_Price', 'Legal_tender_notes_and_coins_in_hands_of_public', 'Demand_deposits_with_licensed_banks', 'M1', 'Savings_deposits_with_licensed_banks', 'Time_deposits_with_licensed_banks', 'NCDs_issued_by_licensed_banks_and_held_by_public', 'M2', 'Deposits_with_RLBs_DTCs', 'NCDs_issued_by_RLBs_DTCs_and_held_by_public', 'M3']\n",
      "General data feature name ['Date', 'District', 'Estate', 'Total_Price', 'Change', 'Building_Area', 'Usable_Area', 'Building_Area_Unit_Price', 'Usable_Area_Unit_Price', 'Contract_Form', 'Total_Trans_for_the_unit', 'Occupancy_Date', 'Estate_Total_Units', 'Total_Blocks', 'Developer', 'Management_Co', 'Kinder_Grden', 'Primary', 'Secondary', 'Longitude', 'Latitude', 'Region']\n"
     ]
    }
   ],
   "source": [
    "print(\"Economise_HK_Data.shape %s\"%(str(Economise_HK_Data.shape)))\n",
    "print(\"Economise_KL_Data.shape %s\"%(str(Economise_KL_Data.shape)))\n",
    "print(\"Economise_NT_Data.shape %s\"%(str(Economise_NT_Data.shape)))\n",
    "\n",
    "print(\"General_HK_Data.shape %s\"%(str(General_HK_Data.shape)))\n",
    "print(\"General_KL_Data.shape %s\"%(str(General_KL_Data.shape)))\n",
    "print(\"General_NT_Data.shape %s\"%(str(General_NT_Data.shape)))\n",
    "\n",
    "print(\"Economise data feature name\",Economise_NT_Data.columns.tolist())\n",
    "print(\"General data feature name\",General_NT_Data.columns.tolist())"
   ]
  },
  {
   "cell_type": "markdown",
   "metadata": {},
   "source": [
    "### 按照年份切分训练集和测试集"
   ]
  },
  {
   "cell_type": "code",
   "execution_count": 28,
   "metadata": {},
   "outputs": [],
   "source": [
    "### 標準化\n",
    "from sklearn.preprocessing import StandardScaler\n",
    "scaler = StandardScaler()\n",
    "scaler.fit(Economise_HK_Data)\n",
    "Economise_HK_DataS = scaler.transform(Economise_HK_Data)"
   ]
  },
  {
   "cell_type": "code",
   "execution_count": 29,
   "metadata": {},
   "outputs": [
    {
     "data": {
      "text/plain": [
       "array([1.61452800e+09, 2.02100000e+03, 3.00000000e+00, 4.00000000e+00,\n",
       "       1.00000000e+00, 1.00000000e+00, 1.54906999e+02, 6.80000000e+02,\n",
       "       1.75680000e+04, 1.00000000e+00, 1.00000000e+00, 1.98700000e+03,\n",
       "       6.64800000e+03, 1.70000000e+01, 1.00000000e+00, 1.00000000e+00,\n",
       "       1.00000000e+00, 1.00000000e+00, 1.00000000e+00, 2.22841474e+01,\n",
       "       1.14215287e+02, 1.43380000e+04, 1.77819868e+05, 5.77001836e+05,\n",
       "       7.54821920e+05, 1.85150748e+06, 3.04278153e+06, 1.83038196e+05,\n",
       "       5.83218206e+06, 3.52520714e+04, 5.73535187e+03, 6.14422880e+06])"
      ]
     },
     "execution_count": 29,
     "metadata": {},
     "output_type": "execute_result"
    }
   ],
   "source": [
    "Economise_HK_Data.values[0]"
   ]
  },
  {
   "cell_type": "code",
   "execution_count": 30,
   "metadata": {},
   "outputs": [
    {
     "data": {
      "text/plain": [
       "array([ 2.41823817e+00,  2.46428292e+00, -9.01361912e-01, -1.39944812e+00,\n",
       "       -1.42142875e+00, -1.21464881e+00,  1.64144506e+00, -2.77685970e-01,\n",
       "        2.56759706e+00, -5.33066562e-01, -1.19204022e+00,  5.44633228e-01,\n",
       "        5.78026388e-01, -8.90206082e-02, -5.71871078e-01, -1.86124085e+00,\n",
       "       -9.82704851e-01, -9.82704851e-01, -9.82704851e-01,  6.36782655e-01,\n",
       "        5.62268338e-01,  2.63171794e+00,  1.12555424e-04, -2.02636095e-05,\n",
       "        3.49519782e-07,  3.23417670e-06, -4.50395619e-03,  2.96376338e-02,\n",
       "        1.16309119e-05, -2.74608428e-03,  6.39608937e-04,  9.56534919e-02])"
      ]
     },
     "execution_count": 30,
     "metadata": {},
     "output_type": "execute_result"
    }
   ],
   "source": [
    "Economise_HK_DataS[0]"
   ]
  },
  {
   "cell_type": "code",
   "execution_count": 31,
   "metadata": {},
   "outputs": [],
   "source": [
    "type(Economise_HK_DataS)\n",
    "test = pd.DataFrame(Economise_HK_DataS)\n",
    "test.shape\n",
    "test.columns = Economise_HK_Data.columns\n"
   ]
  },
  {
   "cell_type": "code",
   "execution_count": 32,
   "metadata": {},
   "outputs": [],
   "source": [
    "from sklearn.preprocessing import StandardScaler\n",
    "\n",
    "def Shard_the_dataset(df,yearNum = 2018):\n",
    "    scaler = StandardScaler()\n",
    "    scaler.fit(df.drop(\"Usable_Area_Unit_Price\",axis = 1))\n",
    "    \n",
    "\n",
    "    trainDataset = df.loc[df['year'] < yearNum]\n",
    "    testDataset = df.loc[df['year'] >= yearNum]\n",
    "    \n",
    "    print(df.shape,trainDataset.shape,testDataset.shape)\n",
    "    print(trainDataset.columns.tolist())\n",
    "    X_train = trainDataset.drop(\"Usable_Area_Unit_Price\",axis = 1)\n",
    "    y_train = trainDataset.Usable_Area_Unit_Price\n",
    "    X_test = testDataset.drop(\"Usable_Area_Unit_Price\",axis = 1)\n",
    "    y_test = testDataset.Usable_Area_Unit_Price\n",
    "    \n",
    "    npT = scaler.transform(X_train)\n",
    "    dfT = pd.DataFrame(npT)\n",
    "    pd.DataFrame(dfT)\n",
    "    dfT.columns = X_train.columns\n",
    "    X_train = dfT\n",
    "    \n",
    "    npT = scaler.transform(X_test)\n",
    "    dfT = pd.DataFrame(npT)\n",
    "    pd.DataFrame(dfT)\n",
    "    dfT.columns = X_test.columns\n",
    "    X_test = dfT\n",
    "    \n",
    "    \n",
    "    return {\"X_train\":X_train,\"y_train\":y_train,\"X_test\":X_test,\"y_test\":y_test}\n",
    "\n"
   ]
  },
  {
   "cell_type": "code",
   "execution_count": 33,
   "metadata": {},
   "outputs": [
    {
     "name": "stdout",
     "output_type": "stream",
     "text": [
      "(177475, 32) (168368, 32) (9107, 32)\n",
      "['Date', 'year', 'month', 'day', 'District', 'Estate', 'Change', 'Building_Area', 'Usable_Area_Unit_Price', 'Contract_Form', 'Total_Trans_for_the_unit', 'Occupancy_Date', 'Estate_Total_Units', 'Total_Blocks', 'Developer', 'Management_Co', 'Kinder_Grden', 'Primary', 'Secondary', 'Longitude', 'Latitude', 'Building_Area_Unit_Price', 'Legal_tender_notes_and_coins_in_hands_of_public', 'Demand_deposits_with_licensed_banks', 'M1', 'Savings_deposits_with_licensed_banks', 'Time_deposits_with_licensed_banks', 'NCDs_issued_by_licensed_banks_and_held_by_public', 'M2', 'Deposits_with_RLBs_DTCs', 'NCDs_issued_by_RLBs_DTCs_and_held_by_public', 'M3']\n",
      "(275891, 32) (262324, 32) (13567, 32)\n",
      "['Date', 'year', 'month', 'day', 'District', 'Estate', 'Change', 'Building_Area', 'Usable_Area_Unit_Price', 'Contract_Form', 'Total_Trans_for_the_unit', 'Occupancy_Date', 'Estate_Total_Units', 'Total_Blocks', 'Developer', 'Management_Co', 'Kinder_Grden', 'Primary', 'Secondary', 'Longitude', 'Latitude', 'Building_Area_Unit_Price', 'Legal_tender_notes_and_coins_in_hands_of_public', 'Demand_deposits_with_licensed_banks', 'M1', 'Savings_deposits_with_licensed_banks', 'Time_deposits_with_licensed_banks', 'NCDs_issued_by_licensed_banks_and_held_by_public', 'M2', 'Deposits_with_RLBs_DTCs', 'NCDs_issued_by_RLBs_DTCs_and_held_by_public', 'M3']\n",
      "(866308, 32) (822004, 32) (44304, 32)\n",
      "['Date', 'year', 'month', 'day', 'District', 'Estate', 'Change', 'Building_Area', 'Usable_Area_Unit_Price', 'Contract_Form', 'Total_Trans_for_the_unit', 'Occupancy_Date', 'Estate_Total_Units', 'Total_Blocks', 'Developer', 'Management_Co', 'Kinder_Grden', 'Primary', 'Secondary', 'Longitude', 'Latitude', 'Building_Area_Unit_Price', 'Legal_tender_notes_and_coins_in_hands_of_public', 'Demand_deposits_with_licensed_banks', 'M1', 'Savings_deposits_with_licensed_banks', 'Time_deposits_with_licensed_banks', 'NCDs_issued_by_licensed_banks_and_held_by_public', 'M2', 'Deposits_with_RLBs_DTCs', 'NCDs_issued_by_RLBs_DTCs_and_held_by_public', 'M3']\n"
     ]
    }
   ],
   "source": [
    "Economise_HK_Data = Shard_the_dataset(Economise_HK_Data,yearNum = 2018)\n",
    "Economise_KL_Data = Shard_the_dataset(Economise_KL_Data,yearNum = 2018)\n",
    "Economise_NT_Data = Shard_the_dataset(Economise_NT_Data,yearNum = 2018)\n",
    "# General_HK_Data = Shard_the_dataset(General_HK_Data,yearNum = 2018)\n",
    "# General_KL_Data = Shard_the_dataset(General_KL_Data,yearNum = 2018)\n",
    "# General_NT_Data = Shard_the_dataset(General_NT_Data,yearNum = 2018)"
   ]
  },
  {
   "cell_type": "code",
   "execution_count": 34,
   "metadata": {},
   "outputs": [],
   "source": [
    "import numpy as np\n",
    "np.set_printoptions(suppress=True) # 不要科学计数法"
   ]
  },
  {
   "cell_type": "code",
   "execution_count": 35,
   "metadata": {},
   "outputs": [
    {
     "name": "stdout",
     "output_type": "stream",
     "text": [
      "X_train (168368, 31)\n",
      "[ 1.9293938   1.8604096   1.71835461  1.50665062  0.71695451  0.15390929\n",
      "  2.62599053 -0.70370133 -0.53306656 -0.53293792  0.5517826  -0.25642763\n",
      " -0.39746655 -0.57187108  1.09943173  0.91454394  0.91454394  0.91454394\n",
      " -0.67027192  1.44786888  0.42134533  2.52241819  2.46370856  2.47979705\n",
      "  2.60715618  2.26226325  2.72926268  2.5589157   0.65291971 -0.00871028\n",
      "  2.57292563]\n",
      "y_train (168368,)\n",
      "9218.849714912474\n",
      "X_test (9107, 31)\n",
      "[ 2.41823817  2.46428292 -0.90136191 -1.39944812 -1.42142875 -1.21464881\n",
      "  1.64144506 -0.27768597 -0.53306656 -1.19204022  0.54463323  0.57802639\n",
      " -0.08902061 -0.57187108 -1.86124085 -0.98270485 -0.98270485 -0.98270485\n",
      "  0.63678266  0.56226834  2.63171794  0.00011256 -0.00002026  0.00000035\n",
      "  0.00000323 -0.00450396  0.02963763  0.00001163 -0.00274608  0.00063961\n",
      "  0.09565349]\n",
      "y_test (9107,)\n",
      "17568.0\n"
     ]
    }
   ],
   "source": [
    "for k,v in Economise_HK_Data.items():\n",
    "    print(k,v.shape)\n",
    "    print(v.values[0])"
   ]
  },
  {
   "cell_type": "markdown",
   "metadata": {},
   "source": [
    "### 数据pca"
   ]
  },
  {
   "cell_type": "code",
   "execution_count": null,
   "metadata": {},
   "outputs": [],
   "source": []
  },
  {
   "cell_type": "code",
   "execution_count": null,
   "metadata": {},
   "outputs": [],
   "source": []
  },
  {
   "cell_type": "markdown",
   "metadata": {},
   "source": [
    "### 训练catboost试一下"
   ]
  },
  {
   "cell_type": "code",
   "execution_count": 36,
   "metadata": {},
   "outputs": [],
   "source": [
    "from sklearn import metrics\n",
    "import numpy as np\n",
    "\n",
    "def reg_calculate(true, prediction):\n",
    "    mse = metrics.mean_squared_error(true, prediction)\n",
    "    rmse = np.sqrt(mse)\n",
    "    mae = metrics.mean_absolute_error(true, prediction)\n",
    "    mape = np.mean(np.abs((true - prediction) / true)) * 100\n",
    "    r2 = metrics.r2_score(true, prediction)\n",
    "    rmsle = np.sqrt(metrics.mean_squared_log_error(true, prediction))\n",
    "    print(\"mse: {}, rmse: {}, mae: {}, mape: {}, r2: {}, rmsle: {}\".format(mse, rmse, mae, mape, r2, rmsle))\n",
    "    # return mse, rmse, mae, mape, r2, rmsle\n",
    "  \n"
   ]
  },
  {
   "cell_type": "code",
   "execution_count": null,
   "metadata": {},
   "outputs": [],
   "source": [
    "import catboost as cb"
   ]
  },
  {
   "cell_type": "code",
   "execution_count": 38,
   "metadata": {},
   "outputs": [
    {
     "ename": "NameError",
     "evalue": "name 'cb' is not defined",
     "output_type": "error",
     "traceback": [
      "\u001b[1;31m---------------------------------------------------------------------------\u001b[0m",
      "\u001b[1;31mNameError\u001b[0m                                 Traceback (most recent call last)",
      "\u001b[1;32m<ipython-input-38-662097afe4e3>\u001b[0m in \u001b[0;36m<module>\u001b[1;34m\u001b[0m\n\u001b[1;32m----> 1\u001b[1;33m \u001b[0mCB_Regressor\u001b[0m\u001b[1;33m=\u001b[0m\u001b[0mcb\u001b[0m\u001b[1;33m.\u001b[0m\u001b[0mCatBoostRegressor\u001b[0m\u001b[1;33m(\u001b[0m\u001b[1;33m)\u001b[0m\u001b[1;33m\u001b[0m\u001b[0m\n\u001b[0m",
      "\u001b[1;31mNameError\u001b[0m: name 'cb' is not defined"
     ]
    }
   ],
   "source": [
    "CB_Regressor=cb.CatBoostRegressor()"
   ]
  },
  {
   "cell_type": "code",
   "execution_count": null,
   "metadata": {},
   "outputs": [],
   "source": [
    "CB_Regressor.fit(Economise_HK_Data[\"X_train\"], Economise_HK_Data[\"y_train\"])\n",
    "y_pre_CB = CB_Regressor.predict(Economise_HK_Data[\"X_test\"])\n",
    "print(\"CB\")\n",
    "reg_calculate(Economise_HK_Data[\"y_test\"], y_pre_CB)"
   ]
  },
  {
   "cell_type": "markdown",
   "metadata": {},
   "source": [
    "###  ANN "
   ]
  },
  {
   "cell_type": "code",
   "execution_count": 51,
   "metadata": {},
   "outputs": [
    {
     "name": "stdout",
     "output_type": "stream",
     "text": [
      "<class 'list'> <class 'numpy.ndarray'> <class 'numpy.ndarray'> <class 'numpy.ndarray'>\n"
     ]
    }
   ],
   "source": [
    "print(type(Economise_HK_Data[\"X_train\"].values.tolist()),\n",
    "type(Economise_HK_Data[\"y_train\"].values),\n",
    "type(Economise_HK_Data[\"X_test\"].values),\n",
    "type(Economise_HK_Data[\"y_test\"].values))"
   ]
  },
  {
   "cell_type": "code",
   "execution_count": 52,
   "metadata": {},
   "outputs": [],
   "source": [
    "from frames.DeeplearningRegression import ANN"
   ]
  },
  {
   "cell_type": "code",
   "execution_count": 69,
   "metadata": {},
   "outputs": [],
   "source": [
    "def fittness(HL,LR1,LR2,LR3,EP,BS,DP,WD):\n",
    "    HL = int(HL)\n",
    "    EP = int(EP)\n",
    "    BS = int(BS)\n",
    "    DP = round(DP,2)\n",
    "\n",
    "    HL_List = [[128,64],[64,32],[32,16],[16,8]]\n",
    "    \n",
    "    print(\"HL {} ,LR1 {} ,LR2 {} ,LR3 {} ,EP {} ,BS {} ,DP {} ,WD {} \".format(HL,LR1,LR2,LR3,EP,BS,DP,WD))\n",
    "    save_path = './DL/Regression/_ANN_results_/'\n",
    "    ann = ANN(            hidden_layers  = HL_List[HL] , \n",
    "                          learning_rate= [LR1,LR2,LR3], \n",
    "                          epoch= EP,\n",
    "                          batch_size= BS, \n",
    "                          save_path=save_path, \n",
    "                          dropout = DP,\n",
    "                          weight_decay = WD,\n",
    "                          is_standard=\"StandardScaler\",\n",
    "    #                       device = 2,\n",
    "                          Dimensionality_reduction_method='None') # 采用梯度衰减策略\n",
    "\n",
    "\n",
    "\n",
    "    ann.fit(Economise_HK_Data[\"X_train\"].values, Economise_HK_Data[\"y_train\"].values,\n",
    "            Economise_HK_Data[\"X_test\"].values, Economise_HK_Data[\"y_test\"].values)\n",
    "    ann.score()\n",
    "    ann.save()\n",
    "    \n",
    "    return ann.fittness()\n",
    "\n",
    "\n"
   ]
  },
  {
   "cell_type": "markdown",
   "metadata": {},
   "source": [
    "### 定義貝葉斯優化"
   ]
  },
  {
   "cell_type": "code",
   "execution_count": 70,
   "metadata": {},
   "outputs": [],
   "source": [
    "from bayes_opt import BayesianOptimization"
   ]
  },
  {
   "cell_type": "code",
   "execution_count": 71,
   "metadata": {},
   "outputs": [],
   "source": [
    "ann_bOpt = BayesianOptimization(\n",
    "    fittness,\n",
    "    {'HL': (1, 4),\n",
    "    'LR1': (1e-2, 1e-4),\n",
    "    'LR2': (1e-4, 1e-6),\n",
    "    'LR3': (1e-6, 1e-8),\n",
    "    'EP': (20, 5000),\n",
    "    'BS': (2, 2048),\n",
    "    'DP': (0.1, 0.8),\n",
    "    'WD': (1e-8, 1e-1)}\n",
    ")"
   ]
  },
  {
   "cell_type": "code",
   "execution_count": 72,
   "metadata": {},
   "outputs": [
    {
     "name": "stdout",
     "output_type": "stream",
     "text": [
      "|   iter    |  target   |    BS     |    DP     |    EP     |    HL     |    LR1    |    LR2    |    LR3    |    WD     |\n",
      "-------------------------------------------------------------------------------------------------------------------------\n",
      "HL 2 ,LR1 0.0016308050785548544 ,LR2 8.275250522830386e-05 ,LR3 2.129953091616008e-07 ,EP 4836 ,BS 1477 ,DP 0.38 ,WD 0.09922749648944944 \n",
      "Let's use GPU: cuda:0\n",
      "The error changes within 1e-05\n",
      "Training... epoch: 4836, loss: 2219664.25\n",
      "\u001b[1;35m Testing... epoch: 4836, loss: 1502948.625 \u001b[0m!\n",
      "Now learning rate is : 8.275250522830386e-05\n",
      "Training completed!!! Time consuming: 6998.711093902588\n",
      "mse: 1502948.4496322458, rmse: 1225.9479799862006, mae: 1019.5386876813146, mape: 6.393724501738733, r2: 0.9152917566666563, r2_adjusted: 0.915002395174278, rmsle: 0.0824224410057348\n",
      "Save results success!\n",
      "Save the value of prediction successfully!!\n",
      "Save the picture successfully!\n",
      "Save the picture of training loss successfully!\n",
      "Save the picture of testing loss  successfully!\n"
     ]
    },
    {
     "ename": "AttributeError",
     "evalue": "'ANN' object has no attribute 'fittness'",
     "output_type": "error",
     "traceback": [
      "\u001b[1;31m---------------------------------------------------------------------------\u001b[0m",
      "\u001b[1;31mKeyError\u001b[0m                                  Traceback (most recent call last)",
      "\u001b[1;32md:\\anaconda3\\envs\\gpu\\lib\\site-packages\\bayes_opt\\target_space.py\u001b[0m in \u001b[0;36mprobe\u001b[1;34m(self, params)\u001b[0m\n\u001b[0;32m    190\u001b[0m         \u001b[1;32mtry\u001b[0m\u001b[1;33m:\u001b[0m\u001b[1;33m\u001b[0m\u001b[0m\n\u001b[1;32m--> 191\u001b[1;33m             \u001b[0mtarget\u001b[0m \u001b[1;33m=\u001b[0m \u001b[0mself\u001b[0m\u001b[1;33m.\u001b[0m\u001b[0m_cache\u001b[0m\u001b[1;33m[\u001b[0m\u001b[0m_hashable\u001b[0m\u001b[1;33m(\u001b[0m\u001b[0mx\u001b[0m\u001b[1;33m)\u001b[0m\u001b[1;33m]\u001b[0m\u001b[1;33m\u001b[0m\u001b[0m\n\u001b[0m\u001b[0;32m    192\u001b[0m         \u001b[1;32mexcept\u001b[0m \u001b[0mKeyError\u001b[0m\u001b[1;33m:\u001b[0m\u001b[1;33m\u001b[0m\u001b[0m\n",
      "\u001b[1;31mKeyError\u001b[0m: (1477.431180263958, 0.3804742803426582, 4836.623670479816, 2.9484282111581717, 0.0016308050785548544, 8.275250522830386e-05, 2.129953091616008e-07, 0.09922749648944944)",
      "\nDuring handling of the above exception, another exception occurred:\n",
      "\u001b[1;31mAttributeError\u001b[0m                            Traceback (most recent call last)",
      "\u001b[1;32m<ipython-input-72-38b166b75607>\u001b[0m in \u001b[0;36m<module>\u001b[1;34m\u001b[0m\n\u001b[1;32m----> 1\u001b[1;33m \u001b[0mann_bOpt\u001b[0m\u001b[1;33m.\u001b[0m\u001b[0mmaximize\u001b[0m\u001b[1;33m(\u001b[0m\u001b[1;33m)\u001b[0m\u001b[1;33m\u001b[0m\u001b[0m\n\u001b[0m",
      "\u001b[1;32md:\\anaconda3\\envs\\gpu\\lib\\site-packages\\bayes_opt\\bayesian_optimization.py\u001b[0m in \u001b[0;36mmaximize\u001b[1;34m(self, init_points, n_iter, acq, kappa, kappa_decay, kappa_decay_delay, xi, **gp_params)\u001b[0m\n\u001b[0;32m    183\u001b[0m                 \u001b[0miteration\u001b[0m \u001b[1;33m+=\u001b[0m \u001b[1;36m1\u001b[0m\u001b[1;33m\u001b[0m\u001b[0m\n\u001b[0;32m    184\u001b[0m \u001b[1;33m\u001b[0m\u001b[0m\n\u001b[1;32m--> 185\u001b[1;33m             \u001b[0mself\u001b[0m\u001b[1;33m.\u001b[0m\u001b[0mprobe\u001b[0m\u001b[1;33m(\u001b[0m\u001b[0mx_probe\u001b[0m\u001b[1;33m,\u001b[0m \u001b[0mlazy\u001b[0m\u001b[1;33m=\u001b[0m\u001b[1;32mFalse\u001b[0m\u001b[1;33m)\u001b[0m\u001b[1;33m\u001b[0m\u001b[0m\n\u001b[0m\u001b[0;32m    186\u001b[0m \u001b[1;33m\u001b[0m\u001b[0m\n\u001b[0;32m    187\u001b[0m             \u001b[1;32mif\u001b[0m \u001b[0mself\u001b[0m\u001b[1;33m.\u001b[0m\u001b[0m_bounds_transformer\u001b[0m\u001b[1;33m:\u001b[0m\u001b[1;33m\u001b[0m\u001b[0m\n",
      "\u001b[1;32md:\\anaconda3\\envs\\gpu\\lib\\site-packages\\bayes_opt\\bayesian_optimization.py\u001b[0m in \u001b[0;36mprobe\u001b[1;34m(self, params, lazy)\u001b[0m\n\u001b[0;32m    114\u001b[0m             \u001b[0mself\u001b[0m\u001b[1;33m.\u001b[0m\u001b[0m_queue\u001b[0m\u001b[1;33m.\u001b[0m\u001b[0madd\u001b[0m\u001b[1;33m(\u001b[0m\u001b[0mparams\u001b[0m\u001b[1;33m)\u001b[0m\u001b[1;33m\u001b[0m\u001b[0m\n\u001b[0;32m    115\u001b[0m         \u001b[1;32melse\u001b[0m\u001b[1;33m:\u001b[0m\u001b[1;33m\u001b[0m\u001b[0m\n\u001b[1;32m--> 116\u001b[1;33m             \u001b[0mself\u001b[0m\u001b[1;33m.\u001b[0m\u001b[0m_space\u001b[0m\u001b[1;33m.\u001b[0m\u001b[0mprobe\u001b[0m\u001b[1;33m(\u001b[0m\u001b[0mparams\u001b[0m\u001b[1;33m)\u001b[0m\u001b[1;33m\u001b[0m\u001b[0m\n\u001b[0m\u001b[0;32m    117\u001b[0m             \u001b[0mself\u001b[0m\u001b[1;33m.\u001b[0m\u001b[0mdispatch\u001b[0m\u001b[1;33m(\u001b[0m\u001b[0mEvents\u001b[0m\u001b[1;33m.\u001b[0m\u001b[0mOPTIMIZATION_STEP\u001b[0m\u001b[1;33m)\u001b[0m\u001b[1;33m\u001b[0m\u001b[0m\n\u001b[0;32m    118\u001b[0m \u001b[1;33m\u001b[0m\u001b[0m\n",
      "\u001b[1;32md:\\anaconda3\\envs\\gpu\\lib\\site-packages\\bayes_opt\\target_space.py\u001b[0m in \u001b[0;36mprobe\u001b[1;34m(self, params)\u001b[0m\n\u001b[0;32m    192\u001b[0m         \u001b[1;32mexcept\u001b[0m \u001b[0mKeyError\u001b[0m\u001b[1;33m:\u001b[0m\u001b[1;33m\u001b[0m\u001b[0m\n\u001b[0;32m    193\u001b[0m             \u001b[0mparams\u001b[0m \u001b[1;33m=\u001b[0m \u001b[0mdict\u001b[0m\u001b[1;33m(\u001b[0m\u001b[0mzip\u001b[0m\u001b[1;33m(\u001b[0m\u001b[0mself\u001b[0m\u001b[1;33m.\u001b[0m\u001b[0m_keys\u001b[0m\u001b[1;33m,\u001b[0m \u001b[0mx\u001b[0m\u001b[1;33m)\u001b[0m\u001b[1;33m)\u001b[0m\u001b[1;33m\u001b[0m\u001b[0m\n\u001b[1;32m--> 194\u001b[1;33m             \u001b[0mtarget\u001b[0m \u001b[1;33m=\u001b[0m \u001b[0mself\u001b[0m\u001b[1;33m.\u001b[0m\u001b[0mtarget_func\u001b[0m\u001b[1;33m(\u001b[0m\u001b[1;33m**\u001b[0m\u001b[0mparams\u001b[0m\u001b[1;33m)\u001b[0m\u001b[1;33m\u001b[0m\u001b[0m\n\u001b[0m\u001b[0;32m    195\u001b[0m             \u001b[0mself\u001b[0m\u001b[1;33m.\u001b[0m\u001b[0mregister\u001b[0m\u001b[1;33m(\u001b[0m\u001b[0mx\u001b[0m\u001b[1;33m,\u001b[0m \u001b[0mtarget\u001b[0m\u001b[1;33m)\u001b[0m\u001b[1;33m\u001b[0m\u001b[0m\n\u001b[0;32m    196\u001b[0m         \u001b[1;32mreturn\u001b[0m \u001b[0mtarget\u001b[0m\u001b[1;33m\u001b[0m\u001b[0m\n",
      "\u001b[1;32m<ipython-input-69-e223b8c1a760>\u001b[0m in \u001b[0;36mfittness\u001b[1;34m(HL, LR1, LR2, LR3, EP, BS, DP, WD)\u001b[0m\n\u001b[0;32m     27\u001b[0m     \u001b[0mann\u001b[0m\u001b[1;33m.\u001b[0m\u001b[0msave\u001b[0m\u001b[1;33m(\u001b[0m\u001b[1;33m)\u001b[0m\u001b[1;33m\u001b[0m\u001b[0m\n\u001b[0;32m     28\u001b[0m \u001b[1;33m\u001b[0m\u001b[0m\n\u001b[1;32m---> 29\u001b[1;33m     \u001b[1;32mreturn\u001b[0m \u001b[0mann\u001b[0m\u001b[1;33m.\u001b[0m\u001b[0mfittness\u001b[0m\u001b[1;33m(\u001b[0m\u001b[1;33m)\u001b[0m\u001b[1;33m\u001b[0m\u001b[0m\n\u001b[0m\u001b[0;32m     30\u001b[0m \u001b[1;33m\u001b[0m\u001b[0m\n\u001b[0;32m     31\u001b[0m \u001b[1;33m\u001b[0m\u001b[0m\n",
      "\u001b[1;31mAttributeError\u001b[0m: 'ANN' object has no attribute 'fittness'"
     ]
    }
   ],
   "source": [
    "ann_bOpt.maximize()"
   ]
  },
  {
   "cell_type": "markdown",
   "metadata": {},
   "source": [
    "### 定義遺傳優化"
   ]
  },
  {
   "cell_type": "code",
   "execution_count": null,
   "metadata": {},
   "outputs": [],
   "source": []
  }
 ],
 "metadata": {
  "kernelspec": {
   "display_name": "Python 3 (ipykernel)",
   "language": "python",
   "name": "python3"
  },
  "language_info": {
   "codemirror_mode": {
    "name": "ipython",
    "version": 3
   },
   "file_extension": ".py",
   "mimetype": "text/x-python",
   "name": "python",
   "nbconvert_exporter": "python",
   "pygments_lexer": "ipython3",
   "version": "3.8.10"
  },
  "toc": {
   "base_numbering": 1,
   "nav_menu": {},
   "number_sections": true,
   "sideBar": true,
   "skip_h1_title": false,
   "title_cell": "Table of Contents",
   "title_sidebar": "Contents",
   "toc_cell": false,
   "toc_position": {},
   "toc_section_display": true,
   "toc_window_display": false
  }
 },
 "nbformat": 4,
 "nbformat_minor": 4
}
