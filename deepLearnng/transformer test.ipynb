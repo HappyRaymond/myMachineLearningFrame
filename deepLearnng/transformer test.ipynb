{
 "cells": [
  {
   "cell_type": "code",
   "execution_count": 1,
   "metadata": {},
   "outputs": [],
   "source": [
    "from Frame.DeepLearningModel import TransAm\n",
    "from Frame.DeepLearningRegression import General_Regression_Training_3d\n",
    "import numpy as np"
   ]
  },
  {
   "cell_type": "code",
   "execution_count": 2,
   "metadata": {},
   "outputs": [],
   "source": [
    "from sklearn import datasets  # 导入库\n",
    "from sklearn.model_selection import train_test_split\n",
    "\n",
    "boston = datasets.load_boston()  # 导入波士顿房价数据\n",
    "\n",
    "train = boston.data  # sample\n",
    "target = boston.target  # target\n",
    "# 切割数据样本集合测试集\n",
    "X_train, x_test, y_train, y_true = train_test_split(train, target, test_size=0.2)  # 20%测试集；80%训练集\n"
   ]
  },
  {
   "cell_type": "code",
   "execution_count": 3,
   "metadata": {},
   "outputs": [
    {
     "name": "stdout",
     "output_type": "stream",
     "text": [
      "X_train_Double.shape: (404, 2, 26) X_test_Double.shape: (102, 2, 26)\n"
     ]
    }
   ],
   "source": [
    "# 對特征做一個操作 讓它翻倍以免出現不是雙數的情況\n",
    "X_train_Double = []\n",
    "for line in X_train:\n",
    "    tempList = []\n",
    "    for l in line:\n",
    "        tempList.extend([l,l])\n",
    "    X_train_Double.append([np.array(tempList),np.array(tempList)])\n",
    "\n",
    "X_train_Double = np.array(X_train_Double)\n",
    "\n",
    "X_test_Double = []\n",
    "for line in x_test:\n",
    "    tempList = []\n",
    "    for l in line:\n",
    "        tempList.extend([l,l])\n",
    "    X_test_Double.append([np.array(tempList),np.array(tempList)])\n",
    "\n",
    "X_test_Double = np.array(X_test_Double)\n",
    "\n",
    "\n",
    "\n",
    "print(\"X_train_Double.shape:\",X_train_Double.shape,\"X_test_Double.shape:\",X_test_Double.shape)\n",
    "        "
   ]
  },
  {
   "cell_type": "code",
   "execution_count": null,
   "metadata": {},
   "outputs": [],
   "source": []
  },
  {
   "cell_type": "code",
   "execution_count": 9,
   "metadata": {
    "scrolled": true
   },
   "outputs": [],
   "source": [
    "model = TransAm(feature_size=26,\n",
    "                num_layers=2,\n",
    "                dropout=0.5,\n",
    "                stackNum = 2,\n",
    "                activate_function = 'LeakyReLU',\n",
    "                hidden_layers = [1024,512])\n",
    "\n",
    "grt = General_Regression_Training_3d(model,learning_rate = [1e-3,1e-6,1e-8],\n",
    "                                     batch_size = 512,\n",
    "                                     use_more_gpu = False,\n",
    "                                     weight_decay=1e-3, \n",
    "                                     device=0,\n",
    "                                     save_path='transformer_Result',\n",
    "                                     epoch = 200)"
   ]
  },
  {
   "cell_type": "code",
   "execution_count": 10,
   "metadata": {},
   "outputs": [
    {
     "data": {
      "text/plain": [
       "TransAm(\n",
       "  (pos_encoder): PositionalEncoding()\n",
       "  (encoder_layer): TransformerEncoderLayer(\n",
       "    (self_attn): MultiheadAttention(\n",
       "      (out_proj): NonDynamicallyQuantizableLinear(in_features=26, out_features=26, bias=True)\n",
       "    )\n",
       "    (linear1): Linear(in_features=26, out_features=2048, bias=True)\n",
       "    (dropout): Dropout(p=0.5, inplace=False)\n",
       "    (linear2): Linear(in_features=2048, out_features=26, bias=True)\n",
       "    (norm1): LayerNorm((26,), eps=1e-05, elementwise_affine=True)\n",
       "    (norm2): LayerNorm((26,), eps=1e-05, elementwise_affine=True)\n",
       "    (dropout1): Dropout(p=0.5, inplace=False)\n",
       "    (dropout2): Dropout(p=0.5, inplace=False)\n",
       "  )\n",
       "  (transformer_encoder): TransformerEncoder(\n",
       "    (layers): ModuleList(\n",
       "      (0): TransformerEncoderLayer(\n",
       "        (self_attn): MultiheadAttention(\n",
       "          (out_proj): NonDynamicallyQuantizableLinear(in_features=26, out_features=26, bias=True)\n",
       "        )\n",
       "        (linear1): Linear(in_features=26, out_features=2048, bias=True)\n",
       "        (dropout): Dropout(p=0.5, inplace=False)\n",
       "        (linear2): Linear(in_features=2048, out_features=26, bias=True)\n",
       "        (norm1): LayerNorm((26,), eps=1e-05, elementwise_affine=True)\n",
       "        (norm2): LayerNorm((26,), eps=1e-05, elementwise_affine=True)\n",
       "        (dropout1): Dropout(p=0.5, inplace=False)\n",
       "        (dropout2): Dropout(p=0.5, inplace=False)\n",
       "      )\n",
       "      (1): TransformerEncoderLayer(\n",
       "        (self_attn): MultiheadAttention(\n",
       "          (out_proj): NonDynamicallyQuantizableLinear(in_features=26, out_features=26, bias=True)\n",
       "        )\n",
       "        (linear1): Linear(in_features=26, out_features=2048, bias=True)\n",
       "        (dropout): Dropout(p=0.5, inplace=False)\n",
       "        (linear2): Linear(in_features=2048, out_features=26, bias=True)\n",
       "        (norm1): LayerNorm((26,), eps=1e-05, elementwise_affine=True)\n",
       "        (norm2): LayerNorm((26,), eps=1e-05, elementwise_affine=True)\n",
       "        (dropout1): Dropout(p=0.5, inplace=False)\n",
       "        (dropout2): Dropout(p=0.5, inplace=False)\n",
       "      )\n",
       "    )\n",
       "  )\n",
       "  (decoder): Sequential(\n",
       "    (0): Linear(in_features=52, out_features=1024, bias=True)\n",
       "    (1): LeakyReLU(negative_slope=True)\n",
       "    (2): Dropout(p=0.5, inplace=False)\n",
       "    (3): Linear(in_features=1024, out_features=512, bias=True)\n",
       "    (4): LeakyReLU(negative_slope=True)\n",
       "    (5): Dropout(p=0.5, inplace=False)\n",
       "    (6): Linear(in_features=512, out_features=1, bias=True)\n",
       "  )\n",
       ")"
      ]
     },
     "execution_count": 10,
     "metadata": {},
     "output_type": "execute_result"
    }
   ],
   "source": [
    "model"
   ]
  },
  {
   "cell_type": "code",
   "execution_count": 11,
   "metadata": {},
   "outputs": [
    {
     "name": "stdout",
     "output_type": "stream",
     "text": [
      "Let's use CPU\n",
      "\n",
      "The error changes within 1e-05\n",
      "Training... epoch: 68, loss: 62.23009490966797\n",
      "\u001b[1;35m Testing... epoch: 68, loss: 119.41999053955078 , r2 -0.17980299935549593\u001b[0m!\n",
      "Now learning rate is : 1e-06\n",
      "Training... epoch: 100, loss: 60.59782028198242\n",
      "The error changes within 1e-06\n",
      "Training... epoch: 134, loss: 61.94330596923828\n",
      "\u001b[1;35m Testing... epoch: 134, loss: 118.5793228149414 , r2 -0.17149762976162486\u001b[0m!\n",
      "Now learning rate is : 1e-08\n",
      "Training... epoch: 200, loss: 62.04045867919922\n",
      "The error changes within 1e-07\n",
      "Training... epoch: 200, loss: 62.04045867919922\n",
      "\u001b[1;35m Testing... epoch: 200, loss: 118.5689468383789 , r2 -0.17139515129211857\u001b[0m!\n",
      "The meaning of the loop is not big, stop!!\n",
      "Training completed!!! Time consuming: 11.296346187591553\n"
     ]
    }
   ],
   "source": [
    "grt.fit(X_train_Double, y_train, X_test_Double, y_true )"
   ]
  },
  {
   "cell_type": "markdown",
   "metadata": {},
   "source": [
    "### cnn 1d"
   ]
  },
  {
   "cell_type": "code",
   "execution_count": 12,
   "metadata": {},
   "outputs": [],
   "source": [
    "from Frame.DeepLearningModel import TransAm_CNN_1D\n",
    "from Frame.DeepLearningRegression import General_Regression_Training_3d"
   ]
  },
  {
   "cell_type": "code",
   "execution_count": 14,
   "metadata": {},
   "outputs": [],
   "source": [
    "model = TransAm_CNN_1D(feature_size=26, \n",
    "                        num_layers=1, \n",
    "                        dropout=0.1,\n",
    "                        stackNum = 2,\n",
    "                        activate_function = 'LeakyReLU',\n",
    "                        channel_layers = [32,18],\n",
    "                        kernel_size = 3,\n",
    "                        stride = 1,\n",
    "                        padding=1,\n",
    "                        Pool_kernel_size = 1,\n",
    "                        dim_feedforward_num=2048,\n",
    "                        nhead=2)"
   ]
  },
  {
   "cell_type": "code",
   "execution_count": 15,
   "metadata": {},
   "outputs": [],
   "source": [
    "grt = General_Regression_Training_3d(model,learning_rate = [1e-3,1e-6,1e-8],\n",
    "                                     batch_size = 512,\n",
    "                                     use_more_gpu = False,\n",
    "                                     weight_decay=1e-3, \n",
    "                                     device=0 ,\n",
    "                                     save_path='transformer_Cnn1d_Result',\n",
    "                                     epoch = 200)"
   ]
  },
  {
   "cell_type": "code",
   "execution_count": 16,
   "metadata": {},
   "outputs": [
    {
     "name": "stdout",
     "output_type": "stream",
     "text": [
      "Let's use CPU\n",
      "\n",
      "The error changes within 1e-05\n",
      "Training... epoch: 68, loss: 56.32355499267578\n",
      "\u001b[1;35m Testing... epoch: 68, loss: 74.74051666259766 , r2 0.26160531084903316\u001b[0m!\n",
      "Now learning rate is : 1e-06\n",
      "Training... epoch: 100, loss: 55.0638313293457\n",
      "The error changes within 1e-06\n",
      "Training... epoch: 134, loss: 57.033966064453125\n",
      "\u001b[1;35m Testing... epoch: 134, loss: 74.7281265258789 , r2 0.2617277385620377\u001b[0m!\n",
      "Now learning rate is : 1e-08\n",
      "Training... epoch: 200, loss: 54.945343017578125\n",
      "The error changes within 1e-07\n",
      "Training... epoch: 200, loss: 54.945343017578125\n",
      "\u001b[1;35m Testing... epoch: 200, loss: 74.7195816040039 , r2 0.26181215430530214\u001b[0m!\n",
      "The meaning of the loop is not big, stop!!\n",
      "Training completed!!! Time consuming: 8.581302881240845\n"
     ]
    }
   ],
   "source": [
    "grt.fit(X_train_Double, y_train, X_test_Double, y_true )"
   ]
  },
  {
   "cell_type": "code",
   "execution_count": 17,
   "metadata": {},
   "outputs": [
    {
     "name": "stdout",
     "output_type": "stream",
     "text": [
      "Save the value of prediction successfully!!\n"
     ]
    },
    {
     "data": {
      "text/plain": [
       "3"
      ]
     },
     "execution_count": 17,
     "metadata": {},
     "output_type": "execute_result"
    }
   ],
   "source": [
    "grt.save_results()"
   ]
  },
  {
   "cell_type": "markdown",
   "metadata": {},
   "source": [
    "### cnn + lstm"
   ]
  },
  {
   "cell_type": "code",
   "execution_count": 18,
   "metadata": {},
   "outputs": [],
   "source": [
    "from Frame.DeepLearningModel import TransAm_CNN_LSTM\n",
    "from Frame.DeepLearningRegression import General_Regression_Training_3d\n"
   ]
  },
  {
   "cell_type": "code",
   "execution_count": 27,
   "metadata": {},
   "outputs": [],
   "source": [
    "model = TransAm_CNN_LSTM(feature_size=26,\n",
    "                        num_layers=1,\n",
    "                        dropout=0.1,\n",
    "                        stackNum=2, \n",
    "                        activate_function='LeakyReLU',\n",
    "                        nhead=2,\n",
    "                        dim_feedforward_num = 2048,\n",
    "                        channel_layers=[32, 18],\n",
    "                        kernel_size=3, \n",
    "                        stride=1, \n",
    "                        padding=1,\n",
    "                        Pool_kernel_size=1,\n",
    "                        LSTM_hidden_size=32, \n",
    "                        LSTM_num_layers=2 )"
   ]
  },
  {
   "cell_type": "code",
   "execution_count": 29,
   "metadata": {},
   "outputs": [],
   "source": [
    "grt = General_Regression_Training_3d(model,learning_rate = [1e-3,1e-6,1e-8],\n",
    "                                     batch_size = 512,\n",
    "                                     use_more_gpu = False,\n",
    "                                     weight_decay=1e-3, \n",
    "                                     device=0 ,\n",
    "                                     save_path='transformer_Cnn1d_Result',\n",
    "                                     epoch = 2000 )"
   ]
  },
  {
   "cell_type": "code",
   "execution_count": 30,
   "metadata": {},
   "outputs": [
    {
     "name": "stdout",
     "output_type": "stream",
     "text": [
      "Let's use CPU\n",
      "\n",
      "Training... epoch: 100, loss: 58.9560432434082\n",
      "Training... epoch: 200, loss: 46.811668395996094\n",
      "Training... epoch: 300, loss: 31.398971557617188\n",
      "Training... epoch: 400, loss: 26.305986404418945\n",
      "Training... epoch: 500, loss: 23.457555770874023\n",
      "Training... epoch: 600, loss: 22.869998931884766\n",
      "The error changes within 1e-05\n",
      "Training... epoch: 668, loss: 17.694772720336914\n",
      "\u001b[1;35m Testing... epoch: 668, loss: 27.93950080871582 , r2 0.7239733190076258\u001b[0m!\n",
      "Now learning rate is : 1e-06\n",
      "Training... epoch: 700, loss: 20.509889602661133\n",
      "Training... epoch: 800, loss: 18.025346755981445\n",
      "Training... epoch: 900, loss: 18.647037506103516\n",
      "Training... epoch: 1000, loss: 17.90921401977539\n",
      "Training... epoch: 1100, loss: 17.05939292907715\n",
      "Training... epoch: 1200, loss: 15.396288871765137\n",
      "Training... epoch: 1300, loss: 16.88096046447754\n",
      "The error changes within 1e-06\n",
      "Training... epoch: 1334, loss: 14.910930633544922\n",
      "\u001b[1;35m Testing... epoch: 1334, loss: 27.346582412719727 , r2 0.729830999471309\u001b[0m!\n",
      "Now learning rate is : 1e-08\n",
      "Training... epoch: 1400, loss: 18.324052810668945\n",
      "Training... epoch: 1500, loss: 16.467960357666016\n",
      "Training... epoch: 1600, loss: 17.815494537353516\n",
      "Training... epoch: 1700, loss: 17.82590675354004\n",
      "Training... epoch: 1800, loss: 17.025470733642578\n",
      "Training... epoch: 1900, loss: 17.7479248046875\n",
      "Training... epoch: 2000, loss: 18.765302658081055\n",
      "The error changes within 1e-07\n",
      "Training... epoch: 2000, loss: 18.765302658081055\n",
      "\u001b[1;35m Testing... epoch: 2000, loss: 27.3497314453125 , r2 0.7297999066645153\u001b[0m!\n",
      "The meaning of the loop is not big, stop!!\n",
      "Training completed!!! Time consuming: 111.46003317832947\n"
     ]
    }
   ],
   "source": [
    "grt.fit(X_train_Double, y_train, X_test_Double, y_true )"
   ]
  },
  {
   "cell_type": "code",
   "execution_count": 31,
   "metadata": {},
   "outputs": [
    {
     "ename": "OSError",
     "evalue": "[Errno 5] Input/output error",
     "output_type": "error",
     "traceback": [
      "\u001b[0;31m---------------------------------------------------------------------------\u001b[0m",
      "\u001b[0;31mOSError\u001b[0m                                   Traceback (most recent call last)",
      "\u001b[0;31mOSError\u001b[0m: [Errno 5] Input/output error",
      "\nDuring handling of the above exception, another exception occurred:\n",
      "\u001b[0;31mOSError\u001b[0m                                   Traceback (most recent call last)",
      "\u001b[0;32m/var/folders/r9/h2c3n2sx1vb5gk4p8jq7xy1h0000gn/T/ipykernel_34279/1689929427.py\u001b[0m in \u001b[0;36m<module>\u001b[0;34m\u001b[0m\n\u001b[0;32m----> 1\u001b[0;31m \u001b[0mgrt\u001b[0m\u001b[0;34m.\u001b[0m\u001b[0msave_results\u001b[0m\u001b[0;34m(\u001b[0m\u001b[0;34m)\u001b[0m\u001b[0;34m\u001b[0m\u001b[0;34m\u001b[0m\u001b[0m\n\u001b[0m",
      "\u001b[0;32m/Volumes/raymond/raymond/[11,May,2021]model/deepLearnng/Frame/DeepLearningRegression.py\u001b[0m in \u001b[0;36msave_results\u001b[0;34m(self)\u001b[0m\n\u001b[1;32m    450\u001b[0m             \u001b[0mcontentStr\u001b[0m \u001b[0;34m=\u001b[0m \u001b[0;34m\",\"\u001b[0m\u001b[0;34m.\u001b[0m\u001b[0mjoin\u001b[0m\u001b[0;34m(\u001b[0m\u001b[0mresultList\u001b[0m\u001b[0;34m)\u001b[0m\u001b[0;34m\u001b[0m\u001b[0;34m\u001b[0m\u001b[0m\n\u001b[1;32m    451\u001b[0m             \u001b[0mf\u001b[0m\u001b[0;34m.\u001b[0m\u001b[0mwrite\u001b[0m\u001b[0;34m(\u001b[0m\u001b[0mcontentStr\u001b[0m\u001b[0;34m)\u001b[0m\u001b[0;34m\u001b[0m\u001b[0;34m\u001b[0m\u001b[0m\n\u001b[0;32m--> 452\u001b[0;31m             \u001b[0mf\u001b[0m\u001b[0;34m.\u001b[0m\u001b[0mwrite\u001b[0m\u001b[0;34m(\u001b[0m\u001b[0;34m'\\n'\u001b[0m\u001b[0;34m)\u001b[0m\u001b[0;34m\u001b[0m\u001b[0;34m\u001b[0m\u001b[0m\n\u001b[0m\u001b[1;32m    453\u001b[0m         \u001b[0;31m# 保存 train loss 和 test loss\u001b[0m\u001b[0;34m\u001b[0m\u001b[0;34m\u001b[0m\u001b[0;34m\u001b[0m\u001b[0m\n\u001b[1;32m    454\u001b[0m         \u001b[0mLoss_path\u001b[0m \u001b[0;34m=\u001b[0m \u001b[0mos\u001b[0m\u001b[0;34m.\u001b[0m\u001b[0mpath\u001b[0m\u001b[0;34m.\u001b[0m\u001b[0mjoin\u001b[0m\u001b[0;34m(\u001b[0m\u001b[0msave_path\u001b[0m\u001b[0;34m,\u001b[0m \u001b[0;34m'Loss'\u001b[0m\u001b[0;34m)\u001b[0m\u001b[0;34m\u001b[0m\u001b[0;34m\u001b[0m\u001b[0m\n",
      "\u001b[0;31mOSError\u001b[0m: [Errno 5] Input/output error"
     ]
    }
   ],
   "source": [
    "grt.save_results()"
   ]
  },
  {
   "cell_type": "code",
   "execution_count": null,
   "metadata": {},
   "outputs": [],
   "source": []
  },
  {
   "cell_type": "code",
   "execution_count": null,
   "metadata": {},
   "outputs": [],
   "source": []
  },
  {
   "cell_type": "code",
   "execution_count": null,
   "metadata": {},
   "outputs": [],
   "source": []
  },
  {
   "cell_type": "code",
   "execution_count": null,
   "metadata": {},
   "outputs": [],
   "source": []
  },
  {
   "cell_type": "code",
   "execution_count": null,
   "metadata": {},
   "outputs": [],
   "source": []
  },
  {
   "cell_type": "code",
   "execution_count": null,
   "metadata": {},
   "outputs": [],
   "source": []
  }
 ],
 "metadata": {
  "interpreter": {
   "hash": "3c0882293b82515ebb3c8c686d4b45bc09e78849bc9f68c524e935bf6a1d7f28"
  },
  "kernelspec": {
   "display_name": "Python 3",
   "language": "python",
   "name": "python3"
  },
  "language_info": {
   "codemirror_mode": {
    "name": "ipython",
    "version": 3
   },
   "file_extension": ".py",
   "mimetype": "text/x-python",
   "name": "python",
   "nbconvert_exporter": "python",
   "pygments_lexer": "ipython3",
   "version": "3.8.3"
  },
  "toc": {
   "base_numbering": 1,
   "nav_menu": {},
   "number_sections": true,
   "sideBar": true,
   "skip_h1_title": false,
   "title_cell": "Table of Contents",
   "title_sidebar": "Contents",
   "toc_cell": false,
   "toc_position": {},
   "toc_section_display": true,
   "toc_window_display": false
  }
 },
 "nbformat": 4,
 "nbformat_minor": 4
}
